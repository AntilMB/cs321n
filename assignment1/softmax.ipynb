{
 "cells": [
  {
   "cell_type": "markdown",
   "metadata": {},
   "source": [
    "# Softmax exercise\n",
    "\n",
    "*Complete and hand in this completed worksheet (including its outputs and any supporting code outside of the worksheet) with your assignment submission. For more details see the [assignments page](http://vision.stanford.edu/teaching/cs231n/assignments.html) on the course website.*\n",
    "\n",
    "This exercise is analogous to the SVM exercise. You will:\n",
    "\n",
    "- implement a fully-vectorized **loss function** for the Softmax classifier\n",
    "- implement the fully-vectorized expression for its **analytic gradient**\n",
    "- **check your implementation** with numerical gradient\n",
    "- use a validation set to **tune the learning rate and regularization** strength\n",
    "- **optimize** the loss function with **SGD**\n",
    "- **visualize** the final learned weights\n"
   ]
  },
  {
   "cell_type": "code",
   "execution_count": 83,
   "metadata": {
    "ExecuteTime": {
     "end_time": "2019-02-05T02:49:46.639623Z",
     "start_time": "2019-02-05T02:49:46.628548Z"
    }
   },
   "outputs": [
    {
     "name": "stdout",
     "output_type": "stream",
     "text": [
      "The autoreload extension is already loaded. To reload it, use:\n",
      "  %reload_ext autoreload\n"
     ]
    }
   ],
   "source": [
    "import random\n",
    "import numpy as np\n",
    "from cs231n.data_utils import load_CIFAR10\n",
    "import matplotlib.pyplot as plt\n",
    "\n",
    "from tqdm import tqdm_notebook as tqdm\n",
    "from itertools import product\n",
    "\n",
    "from __future__ import print_function\n",
    "\n",
    "%matplotlib inline\n",
    "plt.rcParams['figure.figsize'] = (10.0, 8.0) # set default size of plots\n",
    "plt.rcParams['image.interpolation'] = 'nearest'\n",
    "plt.rcParams['image.cmap'] = 'gray'\n",
    "\n",
    "# for auto-reloading extenrnal modules\n",
    "# see http://stackoverflow.com/questions/1907993/autoreload-of-modules-in-ipython\n",
    "%load_ext autoreload\n",
    "%autoreload 2"
   ]
  },
  {
   "cell_type": "code",
   "execution_count": 2,
   "metadata": {
    "ExecuteTime": {
     "end_time": "2019-02-04T23:30:04.266869Z",
     "start_time": "2019-02-04T23:30:01.692449Z"
    }
   },
   "outputs": [
    {
     "name": "stdout",
     "output_type": "stream",
     "text": [
      "Train data shape:  (49000, 3073)\n",
      "Train labels shape:  (49000,)\n",
      "Validation data shape:  (1000, 3073)\n",
      "Validation labels shape:  (1000,)\n",
      "Test data shape:  (1000, 3073)\n",
      "Test labels shape:  (1000,)\n",
      "dev data shape:  (500, 3073)\n",
      "dev labels shape:  (500,)\n"
     ]
    }
   ],
   "source": [
    "def get_CIFAR10_data(num_training=49000, num_validation=1000, num_test=1000, num_dev=500):\n",
    "    \"\"\"\n",
    "    Load the CIFAR-10 dataset from disk and perform preprocessing to prepare\n",
    "    it for the linear classifier. These are the same steps as we used for the\n",
    "    SVM, but condensed to a single function.  \n",
    "    \"\"\"\n",
    "    # Load the raw CIFAR-10 data\n",
    "    cifar10_dir = 'cs231n/datasets/cifar-10-batches-py'\n",
    "    \n",
    "    X_train, y_train, X_test, y_test = load_CIFAR10(cifar10_dir)\n",
    "    \n",
    "    # subsample the data\n",
    "    mask = list(range(num_training, num_training + num_validation))\n",
    "    X_val = X_train[mask]\n",
    "    y_val = y_train[mask]\n",
    "    mask = list(range(num_training))\n",
    "    X_train = X_train[mask]\n",
    "    y_train = y_train[mask]\n",
    "    mask = list(range(num_test))\n",
    "    X_test = X_test[mask]\n",
    "    y_test = y_test[mask]\n",
    "    mask = np.random.choice(num_training, num_dev, replace=False)\n",
    "    X_dev = X_train[mask]\n",
    "    y_dev = y_train[mask]\n",
    "    \n",
    "    # Preprocessing: reshape the image data into rows\n",
    "    X_train = np.reshape(X_train, (X_train.shape[0], -1))\n",
    "    X_val = np.reshape(X_val, (X_val.shape[0], -1))\n",
    "    X_test = np.reshape(X_test, (X_test.shape[0], -1))\n",
    "    X_dev = np.reshape(X_dev, (X_dev.shape[0], -1))\n",
    "    \n",
    "    # Normalize the data: subtract the mean image\n",
    "    mean_image = np.mean(X_train, axis = 0)\n",
    "    X_train -= mean_image\n",
    "    X_val -= mean_image\n",
    "    X_test -= mean_image\n",
    "    X_dev -= mean_image\n",
    "    \n",
    "    # add bias dimension and transform into columns\n",
    "    X_train = np.hstack([X_train, np.ones((X_train.shape[0], 1))])\n",
    "    X_val = np.hstack([X_val, np.ones((X_val.shape[0], 1))])\n",
    "    X_test = np.hstack([X_test, np.ones((X_test.shape[0], 1))])\n",
    "    X_dev = np.hstack([X_dev, np.ones((X_dev.shape[0], 1))])\n",
    "    \n",
    "    return X_train, y_train, X_val, y_val, X_test, y_test, X_dev, y_dev\n",
    "\n",
    "\n",
    "# Cleaning up variables to prevent loading data multiple times (which may cause memory issue)\n",
    "try:\n",
    "   del X_train, y_train\n",
    "   del X_test, y_test\n",
    "   print('Clear previously loaded data.')\n",
    "except:\n",
    "   pass\n",
    "\n",
    "# Invoke the above function to get our data.\n",
    "X_train, y_train, X_val, y_val, X_test, y_test, X_dev, y_dev = get_CIFAR10_data()\n",
    "print('Train data shape: ', X_train.shape)\n",
    "print('Train labels shape: ', y_train.shape)\n",
    "print('Validation data shape: ', X_val.shape)\n",
    "print('Validation labels shape: ', y_val.shape)\n",
    "print('Test data shape: ', X_test.shape)\n",
    "print('Test labels shape: ', y_test.shape)\n",
    "print('dev data shape: ', X_dev.shape)\n",
    "print('dev labels shape: ', y_dev.shape)"
   ]
  },
  {
   "cell_type": "markdown",
   "metadata": {},
   "source": [
    "## Softmax Classifier\n",
    "\n",
    "Your code for this section will all be written inside **cs231n/classifiers/softmax.py**. \n"
   ]
  },
  {
   "cell_type": "code",
   "execution_count": 68,
   "metadata": {
    "ExecuteTime": {
     "end_time": "2019-02-05T02:14:11.449384Z",
     "start_time": "2019-02-05T02:14:11.228722Z"
    }
   },
   "outputs": [
    {
     "name": "stdout",
     "output_type": "stream",
     "text": [
      "loss: 2.407186\n",
      "sanity check: 2.302585\n"
     ]
    }
   ],
   "source": [
    "# First implement the naive softmax loss function with nested loops.\n",
    "# Open the file cs231n/classifiers/softmax.py and implement the\n",
    "# softmax_loss_naive function.\n",
    "\n",
    "from cs231n.classifiers.softmax import softmax_loss_naive\n",
    "import time\n",
    "\n",
    "# Generate a random softmax weight matrix and use it to compute the loss.\n",
    "W = np.random.randn(3073, 10) * 0.0001\n",
    "loss, grad = softmax_loss_naive(W, X_dev, y_dev, 0.0)\n",
    "\n",
    "# As a rough sanity check, our loss should be something close to -log(0.1).\n",
    "print('loss: %f' % loss)\n",
    "print('sanity check: %f' % (-np.log(0.1)))"
   ]
  },
  {
   "cell_type": "markdown",
   "metadata": {},
   "source": [
    "## Inline Question 1:\n",
    "Why do we expect our loss to be close to -log(0.1)? Explain briefly.**\n",
    "\n",
    "**Your answer:** *Fill this in*\n"
   ]
  },
  {
   "cell_type": "code",
   "execution_count": 69,
   "metadata": {
    "ExecuteTime": {
     "end_time": "2019-02-05T02:14:21.293247Z",
     "start_time": "2019-02-05T02:14:13.400713Z"
    }
   },
   "outputs": [
    {
     "name": "stdout",
     "output_type": "stream",
     "text": [
      "numerical: -2.708662 analytic: -2.708662, relative error: 1.374186e-08\n",
      "numerical: 2.808057 analytic: 2.808057, relative error: 1.282650e-08\n",
      "numerical: 0.429296 analytic: 0.429296, relative error: 5.807449e-08\n",
      "numerical: -0.565553 analytic: -0.565553, relative error: 7.242725e-08\n",
      "numerical: 0.297095 analytic: 0.297094, relative error: 2.252524e-07\n",
      "numerical: -2.405269 analytic: -2.405269, relative error: 1.119871e-09\n",
      "numerical: -3.983554 analytic: -3.983554, relative error: 3.286070e-09\n",
      "numerical: -3.100690 analytic: -3.100690, relative error: 1.414221e-08\n",
      "numerical: -0.635787 analytic: -0.635787, relative error: 1.079004e-07\n",
      "numerical: -5.813018 analytic: -5.813018, relative error: 1.094052e-08\n",
      "numerical: -0.738721 analytic: -0.738721, relative error: 1.309701e-08\n",
      "numerical: -0.658421 analytic: -0.658421, relative error: 3.053579e-10\n",
      "numerical: 1.742505 analytic: 1.742505, relative error: 2.749242e-08\n",
      "numerical: -0.967319 analytic: -0.967319, relative error: 7.668120e-09\n",
      "numerical: -0.246303 analytic: -0.246303, relative error: 9.201877e-08\n",
      "numerical: 2.684895 analytic: 2.684895, relative error: 7.771752e-09\n",
      "numerical: 0.792939 analytic: 0.792939, relative error: 4.570745e-08\n",
      "numerical: -0.046147 analytic: -0.046147, relative error: 1.247543e-06\n",
      "numerical: 1.929316 analytic: 1.929316, relative error: 4.387922e-09\n",
      "numerical: 1.453090 analytic: 1.453090, relative error: 4.398831e-08\n"
     ]
    }
   ],
   "source": [
    "# Complete the implementation of softmax_loss_naive and implement a (naive)\n",
    "# version of the gradient that uses nested loops.\n",
    "loss, grad = softmax_loss_naive(W, X_dev, y_dev, 0.0)\n",
    "\n",
    "# As we did for the SVM, use numeric gradient checking as a debugging tool.\n",
    "# The numeric gradient should be close to the analytic gradient.\n",
    "from cs231n.gradient_check import grad_check_sparse\n",
    "f = lambda w: softmax_loss_naive(w, X_dev, y_dev, 0.0)[0]\n",
    "grad_numerical = grad_check_sparse(f, W, grad, 10)\n",
    "\n",
    "# similar to SVM case, do another gradient check with regularization\n",
    "loss, grad = softmax_loss_naive(W, X_dev, y_dev, 5e1)\n",
    "f = lambda w: softmax_loss_naive(w, X_dev, y_dev, 5e1)[0]\n",
    "grad_numerical = grad_check_sparse(f, W, grad, 10)"
   ]
  },
  {
   "cell_type": "code",
   "execution_count": 81,
   "metadata": {
    "ExecuteTime": {
     "end_time": "2019-02-05T02:45:54.833910Z",
     "start_time": "2019-02-05T02:45:54.630646Z"
    }
   },
   "outputs": [
    {
     "name": "stdout",
     "output_type": "stream",
     "text": [
      "naive loss: 2.407186e+00 computed in 0.184484s\n",
      "vectorized loss: 2.407186e+00 computed in 0.004164s\n",
      "Loss difference: 0.000000\n",
      "Gradient difference: 0.000000\n"
     ]
    }
   ],
   "source": [
    "# Now that we have a naive implementation of the softmax loss function and its gradient,\n",
    "# implement a vectorized version in softmax_loss_vectorized.\n",
    "# The two versions should compute the same results, but the vectorized version should be\n",
    "# much faster.\n",
    "tic = time.time()\n",
    "loss_naive, grad_naive = softmax_loss_naive(W, X_dev, y_dev, 0.000005)\n",
    "toc = time.time()\n",
    "print('naive loss: %e computed in %fs' % (loss_naive, toc - tic))\n",
    "\n",
    "from cs231n.classifiers.softmax import softmax_loss_vectorized\n",
    "tic = time.time()\n",
    "loss_vectorized, grad_vectorized = softmax_loss_vectorized(W, X_dev, y_dev, 0.000005)\n",
    "toc = time.time()\n",
    "print('vectorized loss: %e computed in %fs' % (loss_vectorized, toc - tic))\n",
    "\n",
    "# As we did for the SVM, we use the Frobenius norm to compare the two versions\n",
    "# of the gradient.\n",
    "grad_difference = np.linalg.norm(grad_naive - grad_vectorized, ord='fro')\n",
    "print('Loss difference: %f' % np.abs(loss_naive - loss_vectorized))\n",
    "print('Gradient difference: %f' % grad_difference)"
   ]
  },
  {
   "cell_type": "code",
   "execution_count": 85,
   "metadata": {
    "ExecuteTime": {
     "end_time": "2019-02-05T02:58:24.300514Z",
     "start_time": "2019-02-05T02:50:54.516348Z"
    }
   },
   "outputs": [
    {
     "data": {
      "application/vnd.jupyter.widget-view+json": {
       "model_id": "821e267fcf4d40a2895ff2fd97615a83",
       "version_major": 2,
       "version_minor": 0
      },
      "text/plain": [
       "HBox(children=(IntProgress(value=0), HTML(value='')))"
      ]
     },
     "metadata": {},
     "output_type": "display_data"
    },
    {
     "name": "stderr",
     "output_type": "stream",
     "text": [
      "/home/alexander/Sci/cs231n/assignment1/cs231n/classifiers/softmax.py:94: RuntimeWarning: overflow encountered in exp\n",
      "  loss = np.sum(-correct_class_score + np.log(np.sum(np.exp(scores), axis=1)))\n",
      "/home/alexander/Sci/cs231n/assignment1/cs231n/classifiers/softmax.py:97: RuntimeWarning: overflow encountered in exp\n",
      "  p = np.exp(scores)\n",
      "/home/alexander/Sci/cs231n/assignment1/cs231n/classifiers/softmax.py:99: RuntimeWarning: invalid value encountered in true_divide\n",
      "  p = (p.T / p_sum).T\n"
     ]
    },
    {
     "name": "stdout",
     "output_type": "stream",
     "text": [
      "\n",
      "lr 1.000000e-09 reg 1.000000e+03 train accuracy: 0.105980 val accuracy: 0.137000\n",
      "lr 1.000000e-09 reg 1.668101e+03 train accuracy: 0.112531 val accuracy: 0.106000\n",
      "lr 1.000000e-09 reg 2.782559e+03 train accuracy: 0.080122 val accuracy: 0.071000\n",
      "lr 1.000000e-09 reg 4.641589e+03 train accuracy: 0.096429 val accuracy: 0.095000\n",
      "lr 1.000000e-09 reg 7.742637e+03 train accuracy: 0.090673 val accuracy: 0.081000\n",
      "lr 1.000000e-09 reg 1.291550e+04 train accuracy: 0.124082 val accuracy: 0.144000\n",
      "lr 1.000000e-09 reg 2.154435e+04 train accuracy: 0.118571 val accuracy: 0.124000\n",
      "lr 1.000000e-09 reg 3.593814e+04 train accuracy: 0.124408 val accuracy: 0.138000\n",
      "lr 1.000000e-09 reg 5.994843e+04 train accuracy: 0.096327 val accuracy: 0.087000\n",
      "lr 1.000000e-09 reg 1.000000e+05 train accuracy: 0.102592 val accuracy: 0.119000\n",
      "lr 3.593814e-09 reg 1.000000e+03 train accuracy: 0.108878 val accuracy: 0.111000\n",
      "lr 3.593814e-09 reg 1.668101e+03 train accuracy: 0.113694 val accuracy: 0.109000\n",
      "lr 3.593814e-09 reg 2.782559e+03 train accuracy: 0.116306 val accuracy: 0.121000\n",
      "lr 3.593814e-09 reg 4.641589e+03 train accuracy: 0.139490 val accuracy: 0.148000\n",
      "lr 3.593814e-09 reg 7.742637e+03 train accuracy: 0.130735 val accuracy: 0.141000\n",
      "lr 3.593814e-09 reg 1.291550e+04 train accuracy: 0.123714 val accuracy: 0.110000\n",
      "lr 3.593814e-09 reg 2.154435e+04 train accuracy: 0.120020 val accuracy: 0.119000\n",
      "lr 3.593814e-09 reg 3.593814e+04 train accuracy: 0.124694 val accuracy: 0.117000\n",
      "lr 3.593814e-09 reg 5.994843e+04 train accuracy: 0.126714 val accuracy: 0.152000\n",
      "lr 3.593814e-09 reg 1.000000e+05 train accuracy: 0.126510 val accuracy: 0.122000\n",
      "lr 1.291550e-08 reg 1.000000e+03 train accuracy: 0.157592 val accuracy: 0.167000\n",
      "lr 1.291550e-08 reg 1.668101e+03 train accuracy: 0.164571 val accuracy: 0.166000\n",
      "lr 1.291550e-08 reg 2.782559e+03 train accuracy: 0.162286 val accuracy: 0.184000\n",
      "lr 1.291550e-08 reg 4.641589e+03 train accuracy: 0.179837 val accuracy: 0.176000\n",
      "lr 1.291550e-08 reg 7.742637e+03 train accuracy: 0.175755 val accuracy: 0.174000\n",
      "lr 1.291550e-08 reg 1.291550e+04 train accuracy: 0.183163 val accuracy: 0.186000\n",
      "lr 1.291550e-08 reg 2.154435e+04 train accuracy: 0.188918 val accuracy: 0.171000\n",
      "lr 1.291550e-08 reg 3.593814e+04 train accuracy: 0.200408 val accuracy: 0.206000\n",
      "lr 1.291550e-08 reg 5.994843e+04 train accuracy: 0.263061 val accuracy: 0.283000\n",
      "lr 1.291550e-08 reg 1.000000e+05 train accuracy: 0.289878 val accuracy: 0.297000\n",
      "lr 4.641589e-08 reg 1.000000e+03 train accuracy: 0.219204 val accuracy: 0.229000\n",
      "lr 4.641589e-08 reg 1.668101e+03 train accuracy: 0.226245 val accuracy: 0.209000\n",
      "lr 4.641589e-08 reg 2.782559e+03 train accuracy: 0.234735 val accuracy: 0.237000\n",
      "lr 4.641589e-08 reg 4.641589e+03 train accuracy: 0.242816 val accuracy: 0.234000\n",
      "lr 4.641589e-08 reg 7.742637e+03 train accuracy: 0.260551 val accuracy: 0.255000\n",
      "lr 4.641589e-08 reg 1.291550e+04 train accuracy: 0.301592 val accuracy: 0.303000\n",
      "lr 4.641589e-08 reg 2.154435e+04 train accuracy: 0.325429 val accuracy: 0.343000\n",
      "lr 4.641589e-08 reg 3.593814e+04 train accuracy: 0.314204 val accuracy: 0.335000\n",
      "lr 4.641589e-08 reg 5.994843e+04 train accuracy: 0.308143 val accuracy: 0.326000\n",
      "lr 4.641589e-08 reg 1.000000e+05 train accuracy: 0.290224 val accuracy: 0.300000\n",
      "lr 1.668101e-07 reg 1.000000e+03 train accuracy: 0.301878 val accuracy: 0.340000\n",
      "lr 1.668101e-07 reg 1.668101e+03 train accuracy: 0.321490 val accuracy: 0.332000\n",
      "lr 1.668101e-07 reg 2.782559e+03 train accuracy: 0.353796 val accuracy: 0.375000\n",
      "lr 1.668101e-07 reg 4.641589e+03 train accuracy: 0.366959 val accuracy: 0.383000\n",
      "lr 1.668101e-07 reg 7.742637e+03 train accuracy: 0.361653 val accuracy: 0.380000\n",
      "lr 1.668101e-07 reg 1.291550e+04 train accuracy: 0.350551 val accuracy: 0.359000\n",
      "lr 1.668101e-07 reg 2.154435e+04 train accuracy: 0.337653 val accuracy: 0.352000\n",
      "lr 1.668101e-07 reg 3.593814e+04 train accuracy: 0.320755 val accuracy: 0.331000\n",
      "lr 1.668101e-07 reg 5.994843e+04 train accuracy: 0.304633 val accuracy: 0.328000\n",
      "lr 1.668101e-07 reg 1.000000e+05 train accuracy: 0.300469 val accuracy: 0.306000\n",
      "lr 5.994843e-07 reg 1.000000e+03 train accuracy: 0.394245 val accuracy: 0.389000\n",
      "lr 5.994843e-07 reg 1.668101e+03 train accuracy: 0.396163 val accuracy: 0.401000\n",
      "lr 5.994843e-07 reg 2.782559e+03 train accuracy: 0.378551 val accuracy: 0.390000\n",
      "lr 5.994843e-07 reg 4.641589e+03 train accuracy: 0.370878 val accuracy: 0.388000\n",
      "lr 5.994843e-07 reg 7.742637e+03 train accuracy: 0.357939 val accuracy: 0.377000\n",
      "lr 5.994843e-07 reg 1.291550e+04 train accuracy: 0.344143 val accuracy: 0.360000\n",
      "lr 5.994843e-07 reg 2.154435e+04 train accuracy: 0.337184 val accuracy: 0.348000\n",
      "lr 5.994843e-07 reg 3.593814e+04 train accuracy: 0.315898 val accuracy: 0.325000\n",
      "lr 5.994843e-07 reg 5.994843e+04 train accuracy: 0.290449 val accuracy: 0.295000\n",
      "lr 5.994843e-07 reg 1.000000e+05 train accuracy: 0.277408 val accuracy: 0.281000\n",
      "lr 2.154435e-06 reg 1.000000e+03 train accuracy: 0.390837 val accuracy: 0.395000\n",
      "lr 2.154435e-06 reg 1.668101e+03 train accuracy: 0.382898 val accuracy: 0.395000\n",
      "lr 2.154435e-06 reg 2.782559e+03 train accuracy: 0.366959 val accuracy: 0.362000\n",
      "lr 2.154435e-06 reg 4.641589e+03 train accuracy: 0.371224 val accuracy: 0.380000\n",
      "lr 2.154435e-06 reg 7.742637e+03 train accuracy: 0.346735 val accuracy: 0.336000\n",
      "lr 2.154435e-06 reg 1.291550e+04 train accuracy: 0.331388 val accuracy: 0.345000\n",
      "lr 2.154435e-06 reg 2.154435e+04 train accuracy: 0.317388 val accuracy: 0.326000\n",
      "lr 2.154435e-06 reg 3.593814e+04 train accuracy: 0.290857 val accuracy: 0.301000\n",
      "lr 2.154435e-06 reg 5.994843e+04 train accuracy: 0.268122 val accuracy: 0.277000\n",
      "lr 2.154435e-06 reg 1.000000e+05 train accuracy: 0.235633 val accuracy: 0.255000\n",
      "lr 7.742637e-06 reg 1.000000e+03 train accuracy: 0.288735 val accuracy: 0.302000\n",
      "lr 7.742637e-06 reg 1.668101e+03 train accuracy: 0.275286 val accuracy: 0.265000\n",
      "lr 7.742637e-06 reg 2.782559e+03 train accuracy: 0.261490 val accuracy: 0.269000\n",
      "lr 7.742637e-06 reg 4.641589e+03 train accuracy: 0.221306 val accuracy: 0.230000\n",
      "lr 7.742637e-06 reg 7.742637e+03 train accuracy: 0.161204 val accuracy: 0.168000\n",
      "lr 7.742637e-06 reg 1.291550e+04 train accuracy: 0.186980 val accuracy: 0.193000\n",
      "lr 7.742637e-06 reg 2.154435e+04 train accuracy: 0.191735 val accuracy: 0.203000\n",
      "lr 7.742637e-06 reg 3.593814e+04 train accuracy: 0.131408 val accuracy: 0.126000\n",
      "lr 7.742637e-06 reg 5.994843e+04 train accuracy: 0.115714 val accuracy: 0.122000\n",
      "lr 7.742637e-06 reg 1.000000e+05 train accuracy: 0.100857 val accuracy: 0.087000\n",
      "lr 2.782559e-05 reg 1.000000e+03 train accuracy: 0.216898 val accuracy: 0.215000\n",
      "lr 2.782559e-05 reg 1.668101e+03 train accuracy: 0.163000 val accuracy: 0.172000\n",
      "lr 2.782559e-05 reg 2.782559e+03 train accuracy: 0.170388 val accuracy: 0.187000\n",
      "lr 2.782559e-05 reg 4.641589e+03 train accuracy: 0.146531 val accuracy: 0.136000\n",
      "lr 2.782559e-05 reg 7.742637e+03 train accuracy: 0.145306 val accuracy: 0.159000\n",
      "lr 2.782559e-05 reg 1.291550e+04 train accuracy: 0.104041 val accuracy: 0.095000\n",
      "lr 2.782559e-05 reg 2.154435e+04 train accuracy: 0.080776 val accuracy: 0.079000\n",
      "lr 2.782559e-05 reg 3.593814e+04 train accuracy: 0.100265 val accuracy: 0.087000\n",
      "lr 2.782559e-05 reg 5.994843e+04 train accuracy: 0.100265 val accuracy: 0.087000\n",
      "lr 2.782559e-05 reg 1.000000e+05 train accuracy: 0.100265 val accuracy: 0.087000\n",
      "lr 1.000000e-04 reg 1.000000e+03 train accuracy: 0.159918 val accuracy: 0.177000\n",
      "lr 1.000000e-04 reg 1.668101e+03 train accuracy: 0.162306 val accuracy: 0.156000\n",
      "lr 1.000000e-04 reg 2.782559e+03 train accuracy: 0.125306 val accuracy: 0.130000\n",
      "lr 1.000000e-04 reg 4.641589e+03 train accuracy: 0.072143 val accuracy: 0.067000\n",
      "lr 1.000000e-04 reg 7.742637e+03 train accuracy: 0.100265 val accuracy: 0.087000\n",
      "lr 1.000000e-04 reg 1.291550e+04 train accuracy: 0.100265 val accuracy: 0.087000\n",
      "lr 1.000000e-04 reg 2.154435e+04 train accuracy: 0.100265 val accuracy: 0.087000\n",
      "lr 1.000000e-04 reg 3.593814e+04 train accuracy: 0.100265 val accuracy: 0.087000\n",
      "lr 1.000000e-04 reg 5.994843e+04 train accuracy: 0.100265 val accuracy: 0.087000\n",
      "lr 1.000000e-04 reg 1.000000e+05 train accuracy: 0.100265 val accuracy: 0.087000\n",
      "best validation accuracy achieved during cross-validation: 0.401000\n"
     ]
    }
   ],
   "source": [
    "# Use the validation set to tune hyperparameters (regularization strength and\n",
    "# learning rate). You should experiment with different ranges for the learning\n",
    "# rates and regularization strengths; if you are careful you should be able to\n",
    "# get a classification accuracy of over 0.35 on the validation set.\n",
    "from cs231n.classifiers import Softmax\n",
    "results = {}\n",
    "best_val = -1\n",
    "best_softmax = None\n",
    "learning_rates = np.logspace(-9, -4, num=10)\n",
    "regularization_strengths = np.logspace(3, 5, num=10)\n",
    "\n",
    "################################################################################\n",
    "# TODO:                                                                        #\n",
    "# Use the validation set to set the learning rate and regularization strength. #\n",
    "# This should be identical to the validation that you did for the SVM; save    #\n",
    "# the best trained softmax classifer in best_softmax.                          #\n",
    "################################################################################\n",
    "for learning_rate, regularization_strength in tqdm(product(learning_rates, \n",
    "                                                           regularization_strengths), \n",
    "                                                   total=len(learning_rates) * len(regularization_strengths)):\n",
    "    softmax = Softmax()\n",
    "    loss_hist = softmax.train(X_train, \n",
    "                              y_train, \n",
    "                              learning_rate=learning_rate, \n",
    "                              reg=regularization_strength,\n",
    "                              num_iters=1500, \n",
    "                              verbose=False)\n",
    "    \n",
    "    y_train_acc = np.mean(y_train == softmax.predict(X_train))\n",
    "    y_val_acc = np.mean(y_val == softmax.predict(X_val))\n",
    "    \n",
    "    results[(learning_rate, regularization_strength)] = (y_train_acc, y_val_acc)\n",
    "    if y_val_acc > best_val:\n",
    "        best_val = y_val_acc\n",
    "        best_softmax = softmax\n",
    "################################################################################\n",
    "#                              END OF YOUR CODE                                #\n",
    "################################################################################\n",
    "    \n",
    "# Print out results.\n",
    "for lr, reg in sorted(results):\n",
    "    train_accuracy, val_accuracy = results[(lr, reg)]\n",
    "    print('lr %e reg %e train accuracy: %f val accuracy: %f' % (\n",
    "                lr, reg, train_accuracy, val_accuracy))\n",
    "    \n",
    "print('best validation accuracy achieved during cross-validation: %f' % best_val)"
   ]
  },
  {
   "cell_type": "code",
   "execution_count": 86,
   "metadata": {
    "ExecuteTime": {
     "end_time": "2019-02-05T02:58:24.348861Z",
     "start_time": "2019-02-05T02:58:24.303460Z"
    }
   },
   "outputs": [
    {
     "name": "stdout",
     "output_type": "stream",
     "text": [
      "softmax on raw pixels final test set accuracy: 0.379000\n"
     ]
    }
   ],
   "source": [
    "# evaluate on test set\n",
    "# Evaluate the best softmax on test set\n",
    "y_test_pred = best_softmax.predict(X_test)\n",
    "test_accuracy = np.mean(y_test == y_test_pred)\n",
    "print('softmax on raw pixels final test set accuracy: %f' % (test_accuracy, ))"
   ]
  },
  {
   "cell_type": "markdown",
   "metadata": {},
   "source": [
    "**Inline Question** - *True or False*\n",
    "\n",
    "It's possible to add a new datapoint to a training set that would leave the SVM loss unchanged, but this is not the case with the Softmax classifier loss.\n",
    "\n",
    "*Your answer*:\n",
    "\n",
    "*Your explanation*:"
   ]
  },
  {
   "cell_type": "code",
   "execution_count": 87,
   "metadata": {
    "ExecuteTime": {
     "end_time": "2019-02-05T02:58:24.669542Z",
     "start_time": "2019-02-05T02:58:24.356692Z"
    }
   },
   "outputs": [
    {
     "data": {
      "image/png": "[encoded data removed]",
      "text/plain": [
       "<Figure size 720x576 with 10 Axes>"
      ]
     },
     "metadata": {
      "needs_background": "light"
     },
     "output_type": "display_data"
    }
   ],
   "source": [
    "# Visualize the learned weights for each class\n",
    "w = best_softmax.W[:-1,:] # strip out the bias\n",
    "w = w.reshape(32, 32, 3, 10)\n",
    "\n",
    "w_min, w_max = np.min(w), np.max(w)\n",
    "\n",
    "classes = ['plane', 'car', 'bird', 'cat', 'deer', 'dog', 'frog', 'horse', 'ship', 'truck']\n",
    "for i in range(10):\n",
    "    plt.subplot(2, 5, i + 1)\n",
    "    \n",
    "    # Rescale the weights to be between 0 and 255\n",
    "    wimg = 255.0 * (w[:, :, :, i].squeeze() - w_min) / (w_max - w_min)\n",
    "    plt.imshow(wimg.astype('uint8'))\n",
    "    plt.axis('off')\n",
    "    plt.title(classes[i])"
   ]
  },
  {
   "cell_type": "code",
   "execution_count": null,
   "metadata": {},
   "outputs": [],
   "source": []
  }
 ],
 "metadata": {
  "kernelspec": {
   "display_name": "Python 3",
   "language": "python",
   "name": "python3"
  },
  "language_info": {
   "codemirror_mode": {
    "name": "ipython",
    "version": 3
   },
   "file_extension": ".py",
   "mimetype": "text/x-python",
   "name": "python",
   "nbconvert_exporter": "python",
   "pygments_lexer": "ipython3",
   "version": "3.6.6"
  }
 },
 "nbformat": 4,
 "nbformat_minor": 1
}
